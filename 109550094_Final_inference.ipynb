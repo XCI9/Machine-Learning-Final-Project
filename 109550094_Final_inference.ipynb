{
  "nbformat": 4,
  "nbformat_minor": 0,
  "metadata": {
    "colab": {
      "provenance": []
    },
    "kernelspec": {
      "name": "python3",
      "display_name": "Python 3"
    },
    "language_info": {
      "name": "python"
    }
  },
  "cells": [
    {
      "cell_type": "markdown",
      "source": [
        "# Import"
      ],
      "metadata": {
        "id": "ZbrSykrmMF2B"
      }
    },
    {
      "cell_type": "code",
      "execution_count": 15,
      "metadata": {
        "id": "6SkUf_omLf9g"
      },
      "outputs": [],
      "source": [
        "import numpy as np\n",
        "import pandas as pd\n",
        "\n",
        "from sklearn.model_selection import KFold, StratifiedKFold\n",
        "from sklearn.metrics import roc_auc_score, accuracy_score\n",
        "\n",
        "\n",
        "from sklearn.linear_model import HuberRegressor\n",
        "from sklearn.impute import KNNImputer\n",
        "from sklearn.preprocessing import StandardScaler, PowerTransformer\n",
        "\n",
        "import pickle\n",
        "\n",
        "from imblearn.over_sampling import SMOTE\n",
        "\n",
        "import matplotlib.pylab as plt\n",
        "\n",
        "# model \n",
        "from sklearn.linear_model import LinearRegression, Ridge, BayesianRidge, \\\n",
        "    TweedieRegressor,  SGDRegressor, RANSACRegressor, TheilSenRegressor\n",
        "from sklearn.svm import SVR, LinearSVR\n",
        "from sklearn.neighbors import KNeighborsRegressor, \\\n",
        "    RadiusNeighborsRegressor\n",
        "from sklearn.cross_decomposition import PLSRegression\n",
        "from sklearn.tree import DecisionTreeRegressor\n",
        "from sklearn.ensemble import RandomForestRegressor, AdaBoostRegressor\n",
        "from sklearn.neural_network import MLPRegressor"
      ]
    },
    {
      "cell_type": "markdown",
      "source": [
        "# Load data"
      ],
      "metadata": {
        "id": "ZmJn2m0MMKnR"
      }
    },
    {
      "cell_type": "code",
      "source": [
        "train = pd.read_csv(\"/content/train.csv\")\n",
        "test = pd.read_csv(\"/content/test.csv\")\n",
        "data = pd.concat([train, test])"
      ],
      "metadata": {
        "id": "vj6HWEhHMKVO"
      },
      "execution_count": 16,
      "outputs": []
    },
    {
      "cell_type": "markdown",
      "source": [
        "# Data Preprocessing"
      ],
      "metadata": {
        "id": "H8Sz7-7sOLd5"
      }
    },
    {
      "cell_type": "markdown",
      "source": [
        "### Remove the data that is not going to use"
      ],
      "metadata": {
        "id": "OgWqEucFOR-a"
      }
    },
    {
      "cell_type": "code",
      "source": [
        "# Drop attrubute column, \n",
        "# Since we can use product_code to identify different product\n",
        "data = data.drop([col for col in data.columns \n",
        "                  if col.startswith('attribute')], axis=1)\n",
        "data.columns"
      ],
      "metadata": {
        "colab": {
          "base_uri": "https://localhost:8080/"
        },
        "id": "T82sODKiOPNX",
        "outputId": "ef0ff5e8-0179-430c-d6ec-43902cc03065"
      },
      "execution_count": 17,
      "outputs": [
        {
          "output_type": "execute_result",
          "data": {
            "text/plain": [
              "Index(['id', 'product_code', 'loading', 'measurement_0', 'measurement_1',\n",
              "       'measurement_2', 'measurement_3', 'measurement_4', 'measurement_5',\n",
              "       'measurement_6', 'measurement_7', 'measurement_8', 'measurement_9',\n",
              "       'measurement_10', 'measurement_11', 'measurement_12', 'measurement_13',\n",
              "       'measurement_14', 'measurement_15', 'measurement_16', 'measurement_17',\n",
              "       'failure'],\n",
              "      dtype='object')"
            ]
          },
          "metadata": {},
          "execution_count": 17
        }
      ]
    },
    {
      "cell_type": "markdown",
      "source": [
        "### Fill NaN according to most correlated field, if non matching, using KNN instad."
      ],
      "metadata": {
        "id": "pF0H1bP9Ohcy"
      }
    },
    {
      "cell_type": "markdown",
      "source": [
        "> Find correlated coefficiency"
      ],
      "metadata": {
        "id": "Waz8Vpq7OnWt"
      }
    },
    {
      "cell_type": "code",
      "source": [
        "candidate_columns = [col for col in data.columns \n",
        "                     if col.startswith('measurement_') and \n",
        "                     int(col.split('measurement_')[1]) > 2] \n",
        "most_correlated_columns \\\n",
        "    = {productId:[] for productId in data.product_code.unique()}\n",
        "\n",
        "#for each product\n",
        "for product_code in data.product_code.unique():\n",
        "    productData = data[data.product_code==product_code]\n",
        "\n",
        "    product_correlation = {}\n",
        "    for col in candidate_columns:\n",
        "        productDataColumn = productData[candidate_columns]\n",
        "\n",
        "        #calculate correlation for specific column for specific product\n",
        "        correlations = productDataColumn.corr()[col] \\\n",
        "                                        .sort_values(ascending=False) \n",
        "\n",
        "        #take the most 5 correlation(except itself)\n",
        "        most_correlations = correlations[1:2] \n",
        "        product_correlation[col] = most_correlations.index.tolist()\n",
        "    most_correlated_columns[product_code] = product_correlation"
      ],
      "metadata": {
        "id": "aymOvyKqOWsN"
      },
      "execution_count": 18,
      "outputs": []
    },
    {
      "cell_type": "code",
      "source": [
        "len(most_correlated_columns)"
      ],
      "metadata": {
        "colab": {
          "base_uri": "https://localhost:8080/"
        },
        "id": "auUu_q-FOuLQ",
        "outputId": "0efb62a9-5a1f-4c6c-ca20-c9c344d069f1"
      },
      "execution_count": 19,
      "outputs": [
        {
          "output_type": "execute_result",
          "data": {
            "text/plain": [
              "9"
            ]
          },
          "metadata": {},
          "execution_count": 19
        }
      ]
    },
    {
      "cell_type": "markdown",
      "source": [
        "> Fill Null"
      ],
      "metadata": {
        "id": "SI8FwdTfOxAp"
      }
    },
    {
      "cell_type": "code",
      "source": [
        "# use these columns as the reference columns of KNN\n",
        "reference_columns = [col for col in data.columns \n",
        "                    if col.startswith('measurement') or col=='loading']\n",
        "null_columns = [col for col in reference_columns \\\n",
        "                    if data[col].isnull().any()]\n",
        "print(reference_columns)\n",
        "print(null_columns)"
      ],
      "metadata": {
        "colab": {
          "base_uri": "https://localhost:8080/"
        },
        "id": "wsNRbEXxOzyX",
        "outputId": "3aac2625-99bb-4237-92c4-52ac880a9151"
      },
      "execution_count": 20,
      "outputs": [
        {
          "output_type": "stream",
          "name": "stdout",
          "text": [
            "['loading', 'measurement_0', 'measurement_1', 'measurement_2', 'measurement_3', 'measurement_4', 'measurement_5', 'measurement_6', 'measurement_7', 'measurement_8', 'measurement_9', 'measurement_10', 'measurement_11', 'measurement_12', 'measurement_13', 'measurement_14', 'measurement_15', 'measurement_16', 'measurement_17']\n",
            "['loading', 'measurement_3', 'measurement_4', 'measurement_5', 'measurement_6', 'measurement_7', 'measurement_8', 'measurement_9', 'measurement_10', 'measurement_11', 'measurement_12', 'measurement_13', 'measurement_14', 'measurement_15', 'measurement_16', 'measurement_17']\n"
          ]
        }
      ]
    },
    {
      "cell_type": "code",
      "source": [
        "for product_code in data.product_code.unique():\n",
        "    for current_column, correlated_columns in \\\n",
        "        most_correlated_columns[product_code].items():\n",
        "        data_part = data[data.product_code==product_code] \\\n",
        "                        [correlated_columns+[current_column, 'id']]\n",
        "\n",
        "        complete_data_part = data_part.dropna(how='any')\n",
        "        predictor = HuberRegressor(epsilon=1.95)\n",
        "        predictor.fit(complete_data_part[correlated_columns], \n",
        "                      complete_data_part[current_column])\n",
        "    \n",
        "        na_data_dart = data_part[data_part[current_column].isnull() & \n",
        "                                 (~data_part[correlated_columns]\n",
        "                                    .isnull().any(axis=1))]\n",
        "        data.loc[data.id.isin(na_data_dart.id), current_column] = \\\n",
        "            predictor.predict(na_data_dart[correlated_columns])\n",
        "\n",
        "    # others NA columns:\n",
        "    na_data_index = (data.product_code==product_code, reference_columns)\n",
        "    knn = KNNImputer(n_neighbors=3)\n",
        "    data.loc[na_data_index] = knn.fit_transform(data.loc[na_data_index])"
      ],
      "metadata": {
        "id": "gaDgDaFkO2OX"
      },
      "execution_count": 21,
      "outputs": []
    },
    {
      "cell_type": "code",
      "source": [
        "data.isnull().sum()"
      ],
      "metadata": {
        "colab": {
          "base_uri": "https://localhost:8080/"
        },
        "id": "e6VnaftTO380",
        "outputId": "000880a0-ea16-478f-9c21-2e964daa860f"
      },
      "execution_count": 22,
      "outputs": [
        {
          "output_type": "execute_result",
          "data": {
            "text/plain": [
              "id                    0\n",
              "product_code          0\n",
              "loading               0\n",
              "measurement_0         0\n",
              "measurement_1         0\n",
              "measurement_2         0\n",
              "measurement_3         0\n",
              "measurement_4         0\n",
              "measurement_5         0\n",
              "measurement_6         0\n",
              "measurement_7         0\n",
              "measurement_8         0\n",
              "measurement_9         0\n",
              "measurement_10        0\n",
              "measurement_11        0\n",
              "measurement_12        0\n",
              "measurement_13        0\n",
              "measurement_14        0\n",
              "measurement_15        0\n",
              "measurement_16        0\n",
              "measurement_17        0\n",
              "failure           20775\n",
              "dtype: int64"
            ]
          },
          "metadata": {},
          "execution_count": 22
        }
      ]
    },
    {
      "cell_type": "markdown",
      "source": [
        "# Prepare trainX and trainY"
      ],
      "metadata": {
        "id": "6lfEQD76PARh"
      }
    },
    {
      "cell_type": "code",
      "source": [
        "df_train = data.iloc[:train.shape[0],:]\n",
        "df_test = data.iloc[train.shape[0]:,:]"
      ],
      "metadata": {
        "id": "jox79WlHPGH7"
      },
      "execution_count": 23,
      "outputs": []
    },
    {
      "cell_type": "code",
      "source": [
        "features = ['loading',\n",
        "            'measurement_17',\n",
        "            'measurement_1',\n",
        "            'measurement_2',\n",
        "            'measurement_11',\n",
        "            'measurement_13',\n",
        "            'measurement_4',\n",
        "            'measurement_7',\n",
        "            'measurement_3',\n",
        "            'measurement_5',\n",
        "            'measurement_0',\n",
        "            'measurement_9',\n",
        "            'measurement_12',\n",
        "            'measurement_6',\n",
        "            'measurement_10',      \n",
        "            'measurement_16',\n",
        "            'measurement_8',\n",
        "            'measurement_14',\n",
        "            'measurement_15',        \n",
        "]\n",
        "features = features[:4]"
      ],
      "metadata": {
        "id": "YVowOeW_PIZI"
      },
      "execution_count": 24,
      "outputs": []
    },
    {
      "cell_type": "code",
      "source": [
        "train_x = df_train[features]\n",
        "train_y = df_train['failure']\n",
        "test_x = df_test[features]"
      ],
      "metadata": {
        "id": "Na7rpKRUPLv8"
      },
      "execution_count": 25,
      "outputs": []
    },
    {
      "cell_type": "markdown",
      "source": [
        "## Testing"
      ],
      "metadata": {
        "id": "cfT4zmoAPP1u"
      }
    },
    {
      "cell_type": "code",
      "source": [
        "with open('/content/model.pkl','rb') as modelFile:\n",
        "    clf = pickle.loads(modelFile.read())"
      ],
      "metadata": {
        "id": "TwaNgtOgPZZx"
      },
      "execution_count": 26,
      "outputs": []
    },
    {
      "cell_type": "code",
      "source": [
        "print(f\"start testing...\")\n",
        "\n",
        "scaler = StandardScaler()\n",
        "train_x = scaler.fit_transform(train_x)\n",
        "test_x = scaler.transform(test_x)\n",
        "\n",
        "try:\n",
        "    test_y = clf.predict_proba(test_x)[:,1]\n",
        "except:\n",
        "    test_y = clf.predict(test_x).reshape(-1)\n",
        "print(f\"finish!\")"
      ],
      "metadata": {
        "colab": {
          "base_uri": "https://localhost:8080/"
        },
        "id": "BvcyxdR1PTRk",
        "outputId": "53eb39d4-eedd-4a04-e753-ce834383b53b"
      },
      "execution_count": 27,
      "outputs": [
        {
          "output_type": "stream",
          "name": "stdout",
          "text": [
            "start testing...\n",
            "finish!\n"
          ]
        }
      ]
    },
    {
      "cell_type": "markdown",
      "source": [
        "> Save model"
      ],
      "metadata": {
        "id": "_YcLdkE2Pmir"
      }
    },
    {
      "cell_type": "code",
      "source": [
        "output = pd.read_csv('/content/sample_submission.csv')\n",
        "output['failure'] = test_y\n",
        "\n",
        "output.to_csv(\"/content/submission.csv\", index=False)"
      ],
      "metadata": {
        "id": "OSZfUkR7PjGa"
      },
      "execution_count": 28,
      "outputs": []
    }
  ]
}