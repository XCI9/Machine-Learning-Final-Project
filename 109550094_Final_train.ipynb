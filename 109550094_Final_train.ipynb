{
  "cells": [
    {
      "cell_type": "markdown",
      "metadata": {
        "id": "ZbrSykrmMF2B"
      },
      "source": [
        "# Import"
      ]
    },
    {
      "cell_type": "code",
      "execution_count": 1,
      "metadata": {
        "id": "6SkUf_omLf9g"
      },
      "outputs": [],
      "source": [
        "import numpy as np\n",
        "import pandas as pd\n",
        "\n",
        "from sklearn.model_selection import KFold, StratifiedKFold\n",
        "from sklearn.metrics import roc_auc_score, accuracy_score\n",
        "\n",
        "\n",
        "from sklearn.linear_model import HuberRegressor\n",
        "from sklearn.impute import KNNImputer\n",
        "from sklearn.preprocessing import StandardScaler, PowerTransformer\n",
        "\n",
        "import pickle\n",
        "\n",
        "from imblearn.over_sampling import SMOTE\n",
        "import imblearn\n",
        "\n",
        "import matplotlib.pylab as plt\n",
        "\n",
        "# model \n",
        "from sklearn.linear_model import LinearRegression, Ridge, BayesianRidge, \\\n",
        "    TweedieRegressor,  SGDRegressor, RANSACRegressor, TheilSenRegressor\n",
        "from sklearn.svm import SVR, LinearSVR\n",
        "from sklearn.neighbors import KNeighborsRegressor, \\\n",
        "    RadiusNeighborsRegressor\n",
        "from sklearn.cross_decomposition import PLSRegression\n",
        "from sklearn.tree import DecisionTreeRegressor\n",
        "from sklearn.ensemble import RandomForestRegressor, AdaBoostRegressor\n",
        "from sklearn.neural_network import MLPRegressor"
      ]
    },
    {
      "cell_type": "markdown",
      "metadata": {
        "id": "ZmJn2m0MMKnR"
      },
      "source": [
        "# Load data"
      ]
    },
    {
      "cell_type": "code",
      "execution_count": 2,
      "metadata": {
        "id": "vj6HWEhHMKVO"
      },
      "outputs": [],
      "source": [
        "train = pd.read_csv(\"train.csv\")\n",
        "test = pd.read_csv(\"test.csv\")\n",
        "data = pd.concat([train, test])"
      ]
    },
    {
      "cell_type": "markdown",
      "metadata": {
        "id": "Wh6H4-uPMZLm"
      },
      "source": [
        "# Data analysis"
      ]
    },
    {
      "cell_type": "markdown",
      "metadata": {
        "id": "avJ1F5aJNKEW"
      },
      "source": [
        "> 資料分布不均勻"
      ]
    },
    {
      "cell_type": "code",
      "execution_count": 3,
      "metadata": {
        "colab": {
          "base_uri": "https://localhost:8080/"
        },
        "id": "iNYX0_yyMa73",
        "outputId": "a8338d6a-97be-4f5c-f41c-08a794a5d4e2"
      },
      "outputs": [
        {
          "name": "stdout",
          "output_type": "stream",
          "text": [
            "failure: 5649, notFailureCount: 20921\n"
          ]
        }
      ],
      "source": [
        "failure_count = np.sum(data['failure']==1)\n",
        "not_failure_count = np.sum(data['failure']==0)\n",
        "print(f'failure: {failure_count}, notFailureCount: {not_failure_count}')"
      ]
    },
    {
      "cell_type": "markdown",
      "metadata": {
        "id": "EjdvuUHbNLvY"
      },
      "source": [
        "> 資料中有NaN"
      ]
    },
    {
      "cell_type": "code",
      "execution_count": 4,
      "metadata": {
        "colab": {
          "base_uri": "https://localhost:8080/"
        },
        "id": "CC9v0dN5NHM6",
        "outputId": "0180033d-825b-4258-c224-5462897c90f1"
      },
      "outputs": [
        {
          "data": {
            "text/plain": [
              "id                    0\n",
              "product_code          0\n",
              "loading             473\n",
              "attribute_0           0\n",
              "attribute_1           0\n",
              "attribute_2           0\n",
              "attribute_3           0\n",
              "measurement_0         0\n",
              "measurement_1         0\n",
              "measurement_2         0\n",
              "measurement_3       710\n",
              "measurement_4       947\n",
              "measurement_5      1184\n",
              "measurement_6      1420\n",
              "measurement_7      1657\n",
              "measurement_8      1894\n",
              "measurement_9      2131\n",
              "measurement_10     2367\n",
              "measurement_11     2604\n",
              "measurement_12     2841\n",
              "measurement_13     3077\n",
              "measurement_14     3314\n",
              "measurement_15     3551\n",
              "measurement_16     3788\n",
              "measurement_17     4024\n",
              "failure           20775\n",
              "dtype: int64"
            ]
          },
          "execution_count": 4,
          "metadata": {},
          "output_type": "execute_result"
        }
      ],
      "source": [
        "data.isna().sum()"
      ]
    },
    {
      "cell_type": "markdown",
      "metadata": {
        "id": "H8Sz7-7sOLd5"
      },
      "source": [
        "# Data Preprocessing"
      ]
    },
    {
      "cell_type": "markdown",
      "metadata": {
        "id": "OgWqEucFOR-a"
      },
      "source": [
        "### Remove the data that is not going to use"
      ]
    },
    {
      "cell_type": "code",
      "execution_count": 5,
      "metadata": {
        "colab": {
          "base_uri": "https://localhost:8080/"
        },
        "id": "T82sODKiOPNX",
        "outputId": "7b81b0f7-42a5-476c-fb44-5f208ad492e4"
      },
      "outputs": [
        {
          "data": {
            "text/plain": [
              "Index(['id', 'product_code', 'loading', 'measurement_0', 'measurement_1',\n",
              "       'measurement_2', 'measurement_3', 'measurement_4', 'measurement_5',\n",
              "       'measurement_6', 'measurement_7', 'measurement_8', 'measurement_9',\n",
              "       'measurement_10', 'measurement_11', 'measurement_12', 'measurement_13',\n",
              "       'measurement_14', 'measurement_15', 'measurement_16', 'measurement_17',\n",
              "       'failure'],\n",
              "      dtype='object')"
            ]
          },
          "execution_count": 5,
          "metadata": {},
          "output_type": "execute_result"
        }
      ],
      "source": [
        "# Drop attrubute column, \n",
        "# Since we can use product_code to identify different product\n",
        "data = data.drop([col for col in data.columns \n",
        "                  if col.startswith('attribute')], axis=1)\n",
        "data.columns"
      ]
    },
    {
      "cell_type": "markdown",
      "metadata": {
        "id": "pF0H1bP9Ohcy"
      },
      "source": [
        "### Fill NaN according to most correlated field, if non matching, using KNN instad."
      ]
    },
    {
      "cell_type": "markdown",
      "metadata": {
        "id": "Waz8Vpq7OnWt"
      },
      "source": [
        "> Find correlated coefficiency"
      ]
    },
    {
      "cell_type": "code",
      "execution_count": 6,
      "metadata": {
        "id": "aymOvyKqOWsN"
      },
      "outputs": [],
      "source": [
        "# all measurement columns except 0, 1, 2 since these columns have no null\n",
        "# and so don't need to be deal with\n",
        "candidate_columns = [col for col in data.columns \n",
        "                     if col.startswith('measurement_') and \n",
        "                     int(col.split('measurement_')[1]) > 2] \n",
        "\n",
        "# dictionary to record the most related columns\n",
        "most_correlated_columns \\\n",
        "    = {productId:[] for productId in data.product_code.unique()}\n",
        "\n",
        "#for each product\n",
        "for product_code in data.product_code.unique():\n",
        "    productData = data[data.product_code==product_code]\n",
        "\n",
        "    product_correlation = {}\n",
        "    for col in candidate_columns:\n",
        "        productDataColumn = productData[candidate_columns]\n",
        "\n",
        "        #calculate correlation for specific column for specific product\n",
        "        correlations = productDataColumn.corr()[col] \\\n",
        "                                        .sort_values(ascending=False) \n",
        "\n",
        "        #take the most 5 correlation(except itself)\n",
        "        most_correlations = correlations[1:2] \n",
        "        product_correlation[col] = most_correlations.index.tolist()\n",
        "    most_correlated_columns[product_code] = product_correlation"
      ]
    },
    {
      "cell_type": "code",
      "execution_count": 7,
      "metadata": {
        "colab": {
          "base_uri": "https://localhost:8080/"
        },
        "id": "auUu_q-FOuLQ",
        "outputId": "4dc724b4-c7e0-4f8a-8cd0-44fe1e677f5b"
      },
      "outputs": [
        {
          "data": {
            "text/plain": [
              "9"
            ]
          },
          "execution_count": 7,
          "metadata": {},
          "output_type": "execute_result"
        }
      ],
      "source": [
        "len(most_correlated_columns)"
      ]
    },
    {
      "cell_type": "markdown",
      "metadata": {
        "id": "SI8FwdTfOxAp"
      },
      "source": [
        "> Fill Null"
      ]
    },
    {
      "cell_type": "code",
      "execution_count": 8,
      "metadata": {
        "colab": {
          "base_uri": "https://localhost:8080/"
        },
        "id": "wsNRbEXxOzyX",
        "outputId": "f7cafb59-ab18-44db-97be-0a804b55f7e4"
      },
      "outputs": [
        {
          "name": "stdout",
          "output_type": "stream",
          "text": [
            "['loading', 'measurement_0', 'measurement_1', 'measurement_2', 'measurement_3', 'measurement_4', 'measurement_5', 'measurement_6', 'measurement_7', 'measurement_8', 'measurement_9', 'measurement_10', 'measurement_11', 'measurement_12', 'measurement_13', 'measurement_14', 'measurement_15', 'measurement_16', 'measurement_17']\n",
            "['loading', 'measurement_3', 'measurement_4', 'measurement_5', 'measurement_6', 'measurement_7', 'measurement_8', 'measurement_9', 'measurement_10', 'measurement_11', 'measurement_12', 'measurement_13', 'measurement_14', 'measurement_15', 'measurement_16', 'measurement_17']\n"
          ]
        }
      ],
      "source": [
        "# use these columns as the reference columns of KNN\n",
        "reference_columns = [col for col in data.columns \n",
        "                    if col.startswith('measurement') or col=='loading']\n",
        "# the columns that have null value in it and needed to be deal with\n",
        "null_columns = [col for col in reference_columns \\\n",
        "                    if data[col].isnull().any()]\n",
        "print(reference_columns)\n",
        "print(null_columns)"
      ]
    },
    {
      "cell_type": "code",
      "execution_count": 9,
      "metadata": {
        "id": "gaDgDaFkO2OX"
      },
      "outputs": [],
      "source": [
        "for product_code in data.product_code.unique():\n",
        "    # fill null using correlated columns first\n",
        "    for current_column, correlated_columns in \\\n",
        "        most_correlated_columns[product_code].items():\n",
        "        data_part = data[data.product_code==product_code] \\\n",
        "                        [correlated_columns+[current_column, 'id']]\n",
        "\n",
        "        # only use the correlated columns that is not null\n",
        "        complete_data_part = data_part.dropna(how='any')\n",
        "        # use HberRegressor to predict null\n",
        "        predictor = HuberRegressor(epsilon=2)\n",
        "        predictor.fit(complete_data_part[correlated_columns], \n",
        "                      complete_data_part[current_column])\n",
        "\n",
        "        # replace all data that is null in target columns and\n",
        "        # not null in all its correlated columns\n",
        "        na_data_dart = data_part[data_part[current_column].isnull() & \n",
        "                                 (~data_part[correlated_columns]\n",
        "                                    .isnull().any(axis=1))]\n",
        "        data.loc[data.id.isin(na_data_dart.id), current_column] = \\\n",
        "            predictor.predict(na_data_dart[correlated_columns])\n",
        "\n",
        "    # others null columns, use KNN to fill null\n",
        "    na_data_index = (data.product_code==product_code, reference_columns)\n",
        "    knn = KNNImputer(n_neighbors=3)\n",
        "    data.loc[na_data_index] = knn.fit_transform(data.loc[na_data_index])"
      ]
    },
    {
      "cell_type": "code",
      "execution_count": 10,
      "metadata": {
        "colab": {
          "base_uri": "https://localhost:8080/"
        },
        "id": "e6VnaftTO380",
        "outputId": "b6165da8-39a6-43c1-e158-d1465261b08c"
      },
      "outputs": [
        {
          "data": {
            "text/plain": [
              "id                    0\n",
              "product_code          0\n",
              "loading               0\n",
              "measurement_0         0\n",
              "measurement_1         0\n",
              "measurement_2         0\n",
              "measurement_3         0\n",
              "measurement_4         0\n",
              "measurement_5         0\n",
              "measurement_6         0\n",
              "measurement_7         0\n",
              "measurement_8         0\n",
              "measurement_9         0\n",
              "measurement_10        0\n",
              "measurement_11        0\n",
              "measurement_12        0\n",
              "measurement_13        0\n",
              "measurement_14        0\n",
              "measurement_15        0\n",
              "measurement_16        0\n",
              "measurement_17        0\n",
              "failure           20775\n",
              "dtype: int64"
            ]
          },
          "execution_count": 10,
          "metadata": {},
          "output_type": "execute_result"
        }
      ],
      "source": [
        "# all columns shouldn't have null\n",
        "data.isnull().sum()"
      ]
    },
    {
      "cell_type": "markdown",
      "metadata": {
        "id": "6lfEQD76PARh"
      },
      "source": [
        "# Prepare trainX and trainY"
      ]
    },
    {
      "cell_type": "code",
      "execution_count": 11,
      "metadata": {
        "id": "jox79WlHPGH7"
      },
      "outputs": [],
      "source": [
        "# split train and test data\n",
        "df_train = data.iloc[:train.shape[0],:]\n",
        "df_test = data.iloc[train.shape[0]:,:]"
      ]
    },
    {
      "cell_type": "code",
      "execution_count": 12,
      "metadata": {
        "id": "YVowOeW_PIZI"
      },
      "outputs": [],
      "source": [
        "# all features ranked by the importance to the regressor\n",
        "features = ['loading',\n",
        "            'measurement_17',\n",
        "            'measurement_1',\n",
        "            'measurement_2',\n",
        "            'measurement_11',\n",
        "            'measurement_13',\n",
        "            'measurement_4',\n",
        "            'measurement_7',\n",
        "            'measurement_3',\n",
        "            'measurement_5',\n",
        "            'measurement_0',\n",
        "            'measurement_9',\n",
        "            'measurement_12',\n",
        "            'measurement_6',\n",
        "            'measurement_10',      \n",
        "            'measurement_16',\n",
        "            'measurement_8',\n",
        "            'measurement_14',\n",
        "            'measurement_15',        \n",
        "]\n",
        "# use the top 4 important features to train\n",
        "features = features[:4]"
      ]
    },
    {
      "cell_type": "code",
      "execution_count": 13,
      "metadata": {
        "id": "Na7rpKRUPLv8"
      },
      "outputs": [],
      "source": [
        "train_x = df_train[features]\n",
        "train_y = df_train['failure']\n",
        "test_x = df_test[features]"
      ]
    },
    {
      "cell_type": "markdown",
      "metadata": {
        "id": "cfT4zmoAPP1u"
      },
      "source": [
        "## Training"
      ]
    },
    {
      "cell_type": "code",
      "execution_count": 14,
      "metadata": {
        "id": "TwaNgtOgPZZx"
      },
      "outputs": [],
      "source": [
        "#deal with unbalanced input\n",
        "balancer = SMOTE(random_state=42)\n",
        "\n",
        "clf = LinearSVR(random_state=0)"
      ]
    },
    {
      "cell_type": "code",
      "execution_count": 15,
      "metadata": {
        "colab": {
          "base_uri": "https://localhost:8080/"
        },
        "id": "BvcyxdR1PTRk",
        "outputId": "680d38fb-df06-4ef8-e21f-6e98053f6846"
      },
      "outputs": [
        {
          "name": "stdout",
          "output_type": "stream",
          "text": [
            "start training...\n",
            "finish!\n"
          ]
        }
      ],
      "source": [
        "print(f\"start training...\")\n",
        "\n",
        "# standardize data\n",
        "scaler = StandardScaler()\n",
        "train_x = scaler.fit_transform(train_x)\n",
        "test_x = scaler.transform(test_x)\n",
        "\n",
        "# balanced data\n",
        "train_x, train_y = balancer.fit_resample(train_x, train_y)\n",
        "\n",
        "# train\n",
        "clf.fit(train_x, train_y)\n",
        "print(f\"finish!\")"
      ]
    },
    {
      "cell_type": "markdown",
      "metadata": {
        "id": "_YcLdkE2Pmir"
      },
      "source": [
        "> Save model"
      ]
    },
    {
      "cell_type": "code",
      "execution_count": 16,
      "metadata": {
        "id": "OSZfUkR7PjGa"
      },
      "outputs": [],
      "source": [
        "with open('model.pkl', 'wb') as modelFile:\n",
        "    modelFile.write(pickle.dumps(clf))"
      ]
    }
  ],
  "metadata": {
    "colab": {
      "provenance": []
    },
    "kernelspec": {
      "display_name": "MLFinalProject",
      "language": "python",
      "name": "python3"
    },
    "language_info": {
      "codemirror_mode": {
        "name": "ipython",
        "version": 3
      },
      "file_extension": ".py",
      "mimetype": "text/x-python",
      "name": "python",
      "nbconvert_exporter": "python",
      "pygments_lexer": "ipython3",
      "version": "3.8.10"
    },
    "vscode": {
      "interpreter": {
        "hash": "c4b1ab422fa49d0c3cf95223521f668b9c9b0f5bd6aa95f278da1a2189c2e019"
      }
    }
  },
  "nbformat": 4,
  "nbformat_minor": 0
}
